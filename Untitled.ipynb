{
 "cells": [
  {
   "cell_type": "code",
   "execution_count": 2,
   "id": "c6f422e8-eb47-43f1-a96b-e929f39c0613",
   "metadata": {
    "tags": []
   },
   "outputs": [
    {
     "data": {
      "text/plain": [
       "[2, 4, 6]"
      ]
     },
     "execution_count": 2,
     "metadata": {},
     "output_type": "execute_result"
    }
   ],
   "source": [
    "def f(x):\n",
    "\treturn x + 2\n",
    "\n",
    "list(map(f, filter(lambda x: f(x) % 2 == 0, range(6))))"
   ]
  },
  {
   "cell_type": "code",
   "execution_count": 13,
   "id": "6107f294-20cb-4243-8028-f09d03322f63",
   "metadata": {
    "tags": []
   },
   "outputs": [],
   "source": [
    "def recursive_sum(number):\n",
    "\tnumber = int(number)\n",
    "\t\n",
    "\tif number < 0:\n",
    "\t\traise ValueError (f\"recursive_sum requires a non-negative argument but has been called with number={number}\")\n",
    "\telif number == 1 :\n",
    "\t\treturn 1\n",
    "\telse:\n",
    "\t\treturn number + recursive_sum(number - 1)"
   ]
  },
  {
   "cell_type": "code",
   "execution_count": 32,
   "id": "b3c6356d-cd27-484e-a2d2-b62104e69bd8",
   "metadata": {
    "tags": []
   },
   "outputs": [],
   "source": [
    "to_sort = [1, 10, 23, 33, 42, 100, 48279]\n",
    "\n",
    "sorted_list = list(map(lambda d: int(\"\".join(sorted(str(d), reverse=True))), to_sort))"
   ]
  },
  {
   "cell_type": "code",
   "execution_count": 33,
   "id": "c0d6ce89-e5cb-43a6-8054-f7439e2b651d",
   "metadata": {
    "tags": []
   },
   "outputs": [
    {
     "data": {
      "text/plain": [
       "[1, 10, 32, 33, 42, 100, 98742]"
      ]
     },
     "execution_count": 33,
     "metadata": {},
     "output_type": "execute_result"
    }
   ],
   "source": [
    "sorted_list"
   ]
  },
  {
   "cell_type": "code",
   "execution_count": 35,
   "id": "616021a1-03e1-4de8-9542-05ca9b92f060",
   "metadata": {
    "tags": []
   },
   "outputs": [
    {
     "ename": "TypeError",
     "evalue": "str.join() takes no keyword arguments",
     "output_type": "error",
     "traceback": [
      "\u001b[0;31m---------------------------------------------------------------------------\u001b[0m",
      "\u001b[0;31mTypeError\u001b[0m                                 Traceback (most recent call last)",
      "Cell \u001b[0;32mIn[35], line 1\u001b[0m\n\u001b[0;32m----> 1\u001b[0m \u001b[38;5;124m\"\u001b[39m\u001b[38;5;124m\"\u001b[39m\u001b[38;5;241m.\u001b[39mjoin(\u001b[38;5;28msorted\u001b[39m(\u001b[38;5;124m'\u001b[39m\u001b[38;5;124m2341\u001b[39m\u001b[38;5;124m'\u001b[39m), reverse\u001b[38;5;241m=\u001b[39m\u001b[38;5;28;01mTrue\u001b[39;00m)\n",
      "\u001b[0;31mTypeError\u001b[0m: str.join() takes no keyword arguments"
     ]
    }
   ],
   "source": [
    "lamda d:\"\".join(sorted('2341'), reverse=True)"
   ]
  },
  {
   "cell_type": "code",
   "execution_count": 37,
   "id": "1d7f302a-55ee-4b0a-81e0-e806114fa657",
   "metadata": {
    "tags": []
   },
   "outputs": [
    {
     "data": {
      "text/plain": [
       "[1, 10, 32, 33, 42, 100, 98742]"
      ]
     },
     "execution_count": 37,
     "metadata": {},
     "output_type": "execute_result"
    }
   ],
   "source": [
    "list(map(lambda d: int(\"\".join(sorted(str(d), reverse=True))), to_sort))"
   ]
  },
  {
   "cell_type": "code",
   "execution_count": 42,
   "id": "8481b8a9-10ea-4f7b-9e6a-5f8fe3f4e0c5",
   "metadata": {
    "tags": []
   },
   "outputs": [],
   "source": [
    "a = \"\".join('1432')"
   ]
  },
  {
   "cell_type": "code",
   "execution_count": 43,
   "id": "8850aebb-656b-455a-aea7-9ca301cf8e96",
   "metadata": {
    "tags": []
   },
   "outputs": [
    {
     "data": {
      "text/plain": [
       "'1432'"
      ]
     },
     "execution_count": 43,
     "metadata": {},
     "output_type": "execute_result"
    }
   ],
   "source": [
    "a"
   ]
  },
  {
   "cell_type": "code",
   "execution_count": 45,
   "id": "aecdf6fb-68df-4e26-8fec-918edd43397c",
   "metadata": {
    "tags": []
   },
   "outputs": [
    {
     "data": {
      "text/plain": [
       "[2, 2, 2]"
      ]
     },
     "execution_count": 45,
     "metadata": {},
     "output_type": "execute_result"
    }
   ],
   "source": [
    "list(map(lambda x:2, (1,2,3)))"
   ]
  },
  {
   "cell_type": "code",
   "execution_count": 16,
   "id": "5ad43b86-888b-437d-a538-ea85e565db34",
   "metadata": {},
   "outputs": [
    {
     "name": "stdout",
     "output_type": "stream",
     "text": [
      "4818.181818181818\n",
      "4380.165289256198\n",
      "3981.968444778361\n",
      "3619.9713134348735\n",
      "3290.8830122135214\n"
     ]
    }
   ],
   "source": [
    "sum = 0\n",
    "for i in range(1,6):\n",
    "    num = 5300/(1.1 ** i)\n",
    "    sum += num\n",
    "    print(num)"
   ]
  },
  {
   "cell_type": "code",
   "execution_count": null,
   "id": "1ce35002-77cb-4471-95f7-467978d9c375",
   "metadata": {},
   "outputs": [],
   "source": [
    "print"
   ]
  }
 ],
 "metadata": {
  "kernelspec": {
   "display_name": "Python 3 (ipykernel)",
   "language": "python",
   "name": "python3"
  },
  "language_info": {
   "codemirror_mode": {
    "name": "ipython",
    "version": 3
   },
   "file_extension": ".py",
   "mimetype": "text/x-python",
   "name": "python",
   "nbconvert_exporter": "python",
   "pygments_lexer": "ipython3",
   "version": "3.11.5"
  }
 },
 "nbformat": 4,
 "nbformat_minor": 5
}
